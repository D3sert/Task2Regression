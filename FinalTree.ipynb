{
 "metadata": {
  "language_info": {
   "codemirror_mode": {
    "name": "ipython",
    "version": 3
   },
   "file_extension": ".py",
   "mimetype": "text/x-python",
   "name": "python",
   "nbconvert_exporter": "python",
   "pygments_lexer": "ipython3",
   "version": "3.8.3"
  },
  "orig_nbformat": 2,
  "kernelspec": {
   "name": "python383jvsc74a57bd075a88bca18d42798bd43853615f6d8e1ba2122f998d1455de99fcbfb11fe8fcf",
   "display_name": "Python 3.8.3 64-bit ('timrs': virtualenv)"
  }
 },
 "nbformat": 4,
 "nbformat_minor": 2,
 "cells": [
  {
   "cell_type": "code",
   "execution_count": 27,
   "metadata": {},
   "outputs": [],
   "source": [
    "import pandas as pd \n",
    "import numpy as np \n",
    "from collections import Counter\n",
    "\n",
    "from sklearn.metrics import r2_score\n",
    "from sklearn.metrics import mean_squared_error\n",
    "\n",
    "import matplotlib.pyplot as plt\n",
    "import seaborn as sns\n",
    "from sklearn.model_selection import train_test_split\n"
   ]
  },
  {
   "cell_type": "code",
   "execution_count": 11,
   "metadata": {},
   "outputs": [],
   "source": [
    "data = pd.read_csv(\"Real-estate.csv\",index_col=0)\n",
    "data.columns = ['X1','X2','X3','X4','X5','X6','Y']"
   ]
  },
  {
   "cell_type": "code",
   "execution_count": 12,
   "metadata": {},
   "outputs": [],
   "source": [
    "X = data.drop(data.columns[6],axis=1)\n",
    "y = data.iloc[:,6]\n",
    "X_train, X_test, y_train, y_test = train_test_split(X,y)"
   ]
  },
  {
   "cell_type": "code",
   "execution_count": 13,
   "metadata": {},
   "outputs": [],
   "source": [
    "def rss(y_left, y_right):\n",
    "    def squared_residual_sum(y):\n",
    "        r = y - np.mean(y)\n",
    "        r = r ** 2\n",
    "        r = np.sum(r)\n",
    "        return r\n",
    "    \n",
    "    return squared_residual_sum(y_left) + squared_residual_sum(y_right)"
   ]
  },
  {
   "cell_type": "code",
   "execution_count": 14,
   "metadata": {},
   "outputs": [],
   "source": [
    "def compute_rss_by_threshold(feature):\n",
    "    features_rss = []\n",
    "    # gather thresholds\n",
    "    thresholds = X_train[feature].unique().tolist()\n",
    "    #sort thresholds\n",
    "    thresholds.sort()\n",
    "    #for each\n",
    "    for t in thresholds:\n",
    "        \n",
    "        y_left_ix = X_train[feature] < t\n",
    "        y_left, y_right = y_train[y_left_ix], y_train[~y_left_ix]\n",
    "        features_rss.append(rss(y_left, y_right))\n",
    "    return thresholds, features_rss"
   ]
  },
  {
   "cell_type": "code",
   "execution_count": 15,
   "metadata": {},
   "outputs": [],
   "source": [
    "def find_best_rule(X_train, y_train):\n",
    "    best_feature, best_threshold, min_rss = None, None, np.inf\n",
    "    for feature in X_train.columns:\n",
    "        thresholds = X_train[feature].unique().tolist()\n",
    "        thresholds.sort()\n",
    "        thresholds = thresholds[1:]\n",
    "        for t in thresholds:\n",
    "            y_left_ix = X_train[feature] < t\n",
    "            y_left, y_right = y_train[y_left_ix], y_train[~y_left_ix]\n",
    "            t_rss = rss(y_left, y_right)\n",
    "            if t_rss < min_rss:\n",
    "                min_rss = t_rss\n",
    "                best_threshold = t\n",
    "                best_feature = feature\n",
    "    \n",
    "    return {'feature': best_feature, 'threshold': best_threshold}"
   ]
  },
  {
   "cell_type": "code",
   "execution_count": 16,
   "metadata": {},
   "outputs": [],
   "source": [
    "def split(X_train, y_train, depth, max_depth):\n",
    "    if depth == max_depth or len(X_train) < 2:\n",
    "        return {'prediction': np.mean(y_train)}\n",
    "    \n",
    "    rule = find_best_rule(X_train, y_train)\n",
    "    left_ix = X_train[rule['feature']] < rule['threshold']\n",
    "    rule['left'] = split(X_train[left_ix], y_train[left_ix], depth + 1, max_depth)\n",
    "    rule['right'] = split(X_train[~left_ix], y_train[~left_ix], depth + 1, max_depth)\n",
    "    return rule\n",
    "\n",
    "rules = split(X_train, y_train, 0, 3)"
   ]
  },
  {
   "cell_type": "code",
   "execution_count": 17,
   "metadata": {},
   "outputs": [],
   "source": [
    "def predict(sample, rules):\n",
    "    prediction = None\n",
    "    while prediction is None:\n",
    "        feature, threshold = rules['feature'], rules['threshold']\n",
    "        if sample[feature] < threshold:\n",
    "            rules = rules['left']\n",
    "        else:\n",
    "            rules = rules['right']\n",
    "        prediction = rules.get('prediction', None)\n",
    "    return prediction"
   ]
  },
  {
   "cell_type": "code",
   "execution_count": 25,
   "metadata": {},
   "outputs": [],
   "source": [
    "def evaluate_r2(X, y):\n",
    "    preds = X.apply(predict, axis='columns', rules=rules.copy())\n",
    "    return r2_score(preds, y)\n",
    "\n",
    "def evaluate_mse(X, y):\n",
    "    preds = X.apply(predict, axis='columns', rules=rules.copy())\n",
    "    return mean_squared_error(preds, y)"
   ]
  },
  {
   "cell_type": "code",
   "execution_count": 29,
   "metadata": {},
   "outputs": [
    {
     "output_type": "stream",
     "name": "stdout",
     "text": [
      " Regression Tree:\n------------------\nMax Depth 3 Training R2: 0.680572872455621 Test R2: 0.4230872599515264\n------------------\nMax Depth 3 Training mse: 45.46795328977166 Test mse: 110.4858448470182\n"
     ]
    }
   ],
   "source": [
    "rules = split(X_train, y_train, 0, 3)\n",
    "\n",
    "train_r2 = evaluate_r2(X_train, y_train)\n",
    "test_r2 = evaluate_r2(X_test, y_test)\n",
    "\n",
    "train_mse = evaluate_mse(X_train, y_train)\n",
    "test_mse = evaluate_mse(X_test, y_test)\n",
    "\n",
    "print(\" Regression Tree:\")\n",
    "print(\"------------------\")\n",
    "print('Max Depth', 3, 'Training R2:', train_r2, 'Test R2:',test_r2)\n",
    "print(\"------------------\")\n",
    "print('Max Depth', 3, 'Training mse:', train_mse, 'Test mse:',test_mse)"
   ]
  },
  {
   "cell_type": "code",
   "execution_count": 20,
   "metadata": {},
   "outputs": [
    {
     "output_type": "stream",
     "name": "stdout",
     "text": [
      "{'feature': 'X3', 'threshold': 837.7233, 'left': {'feature': 'X2', 'threshold': 11.8, 'left': {'feature': 'X6', 'threshold': 121.53058999999999, 'left': {'prediction': 117.5}, 'right': {'prediction': 52.37377049180329}}, 'right': {'feature': 'X3', 'threshold': 333.3679, 'left': {'prediction': 45.80754716981131}, 'right': {'prediction': 38.84390243902438}}}, 'right': {'feature': 'X5', 'threshold': 24.984070000000003, 'left': {'feature': 'X3', 'threshold': 4066.587, 'left': {'prediction': 25.66986301369862}, 'right': {'prediction': 16.97916666666667}}, 'right': {'feature': 'X2', 'threshold': 12.5, 'left': {'prediction': 42.38}, 'right': {'prediction': 34.75454545454546}}}}\n"
     ]
    }
   ],
   "source": [
    "print(rules)"
   ]
  },
  {
   "cell_type": "code",
   "execution_count": 21,
   "metadata": {},
   "outputs": [
    {
     "output_type": "stream",
     "name": "stdout",
     "text": [
      "{\n    \"feature\": \"X3\",\n    \"threshold\": 837.7233,\n    \"left\": {\n        \"feature\": \"X2\",\n        \"threshold\": 11.8,\n        \"left\": {\n            \"feature\": \"X6\",\n            \"threshold\": 121.53058999999999,\n            \"left\": {\n                \"prediction\": 117.5\n            },\n            \"right\": {\n                \"prediction\": 52.37377049180329\n            }\n        },\n        \"right\": {\n            \"feature\": \"X3\",\n            \"threshold\": 333.3679,\n            \"left\": {\n                \"prediction\": 45.80754716981131\n            },\n            \"right\": {\n                \"prediction\": 38.84390243902438\n            }\n        }\n    },\n    \"right\": {\n        \"feature\": \"X5\",\n        \"threshold\": 24.984070000000003,\n        \"left\": {\n            \"feature\": \"X3\",\n            \"threshold\": 4066.587,\n            \"left\": {\n                \"prediction\": 25.66986301369862\n            },\n            \"right\": {\n                \"prediction\": 16.97916666666667\n            }\n        },\n        \"right\": {\n            \"feature\": \"X2\",\n            \"threshold\": 12.5,\n            \"left\": {\n                \"prediction\": 42.38\n            },\n            \"right\": {\n                \"prediction\": 34.75454545454546\n            }\n        }\n    }\n}\n"
     ]
    }
   ],
   "source": [
    "import json\n",
    "print(json.dumps(rules,indent=4))"
   ]
  },
  {
   "cell_type": "code",
   "execution_count": null,
   "metadata": {},
   "outputs": [],
   "source": []
  }
 ]
}