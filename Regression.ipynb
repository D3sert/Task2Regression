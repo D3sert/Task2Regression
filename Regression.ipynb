{
 "metadata": {
  "language_info": {
   "codemirror_mode": {
    "name": "ipython",
    "version": 3
   },
   "file_extension": ".py",
   "mimetype": "text/x-python",
   "name": "python",
   "nbconvert_exporter": "python",
   "pygments_lexer": "ipython3",
   "version": "3.8.3"
  },
  "orig_nbformat": 2,
  "kernelspec": {
   "name": "python383jvsc74a57bd075a88bca18d42798bd43853615f6d8e1ba2122f998d1455de99fcbfb11fe8fcf",
   "display_name": "Python 3.8.3 64-bit ('timrs': virtualenv)"
  }
 },
 "nbformat": 4,
 "nbformat_minor": 2,
 "cells": [
  {
   "cell_type": "code",
   "execution_count": 1,
   "metadata": {},
   "outputs": [],
   "source": [
    "# Data wrangling \n",
    "import pandas as pd \n",
    "\n",
    "# Array math\n",
    "import numpy as np \n",
    "\n",
    "# Quick value count calculator\n",
    "from collections import Counter\n",
    "\n",
    "\n",
    "class NodeRegression():\n",
    "    \"\"\"\n",
    "    Class to grow a regression decision tree\n",
    "    \"\"\"\n",
    "    def __init__(\n",
    "        this, \n",
    "        Y: list,\n",
    "        X: pd.DataFrame,\n",
    "        min_samples_split=None,\n",
    "        max_depth=None,\n",
    "        depth=None,\n",
    "        node_type=None,\n",
    "        rule=None\n",
    "    ):\n",
    "        # Saving the data to the node \n",
    "        this.Y = Y \n",
    "        this.X = X\n",
    "\n",
    "        # Saving the hyper parameters\n",
    "        this.min_samples_split = min_samples_split if min_samples_split else 20\n",
    "        this.max_depth = max_depth if max_depth else 5\n",
    "\n",
    "        # Default current depth of node \n",
    "        this.depth = depth if depth else 0\n",
    "\n",
    "        # Extracting all the features\n",
    "        this.features = list(this.X.columns)\n",
    "\n",
    "        # Type of node \n",
    "        this.node_type = node_type if node_type else 'root'\n",
    "\n",
    "        # Rule for spliting \n",
    "        this.rule = rule if rule else \"\"\n",
    "\n",
    "        # Getting the mean of Y \n",
    "        this.ymean = np.mean(Y)\n",
    "\n",
    "        # Getting the residuals \n",
    "        this.residuals = this.Y - this.ymean\n",
    "\n",
    "        # Calculating the mse of the node \n",
    "        this.mse = this.get_mse(Y, this.ymean)\n",
    "\n",
    "        # Saving the number of observations in the node \n",
    "        this.n = len(Y)\n",
    "\n",
    "        # Initiating the left and right nodes as empty nodes\n",
    "        this.left = None \n",
    "        this.right = None \n",
    "\n",
    "        # Default values for splits\n",
    "        this.best_feature = None \n",
    "        this.best_value = None \n",
    "\n",
    "    @staticmethod\n",
    "    def get_mse(ytrue, yhat) -> float:\n",
    "        \"\"\"\n",
    "        Method to calculate the mean squared error \n",
    "        \"\"\"\n",
    "        # Getting the total number of samples\n",
    "        n = len(ytrue)\n",
    "\n",
    "        # Getting the residuals \n",
    "        r = ytrue - yhat \n",
    "\n",
    "        # Squering the residuals \n",
    "        r = r ** 2\n",
    "\n",
    "        # Suming \n",
    "        r = np.sum(r)\n",
    "\n",
    "        # Getting the average and returning \n",
    "        return r / n\n",
    "\n",
    "    @staticmethod\n",
    "    def ma(x: np.array, window: int) -> np.array:\n",
    "        \"\"\"\n",
    "        Calculates the moving average of the given list. \n",
    "        \"\"\"\n",
    "        return np.convolve(x, np.ones(window), 'valid') / window\n",
    "\n",
    "    def best_split(this) -> tuple:\n",
    "        \"\"\"\n",
    "        Given the X features and Y targets calculates the best split \n",
    "        for a decision tree\n",
    "        \"\"\"\n",
    "        # Creating a dataset for spliting\n",
    "        df = this.X.copy()\n",
    "        df['Y'] = this.Y\n",
    "\n",
    "        # Getting the GINI impurity for the base input \n",
    "        mse_base = this.mse\n",
    "\n",
    "        # Finding which split yields the best GINI gain \n",
    "        #max_gain = 0\n",
    "\n",
    "        # Default best feature and split\n",
    "        best_feature = None\n",
    "        best_value = None\n",
    "\n",
    "        for feature in this.features:\n",
    "            # Droping missing values\n",
    "            Xdf = df.dropna().sort_values(feature)\n",
    "\n",
    "            # Sorting the values and getting the rolling average\n",
    "            xmeans = this.ma(Xdf[feature].unique(), 2)\n",
    "\n",
    "            for value in xmeans:\n",
    "                # Getting the left and right ys \n",
    "                left_y = Xdf[Xdf[feature]<value]['Y'].values\n",
    "                right_y = Xdf[Xdf[feature]>=value]['Y'].values\n",
    "\n",
    "                # Getting the means \n",
    "                left_mean = np.mean(left_y)\n",
    "                right_mean = np.mean(right_y)\n",
    "\n",
    "                # Getting the left and right residuals \n",
    "                res_left = left_y - left_mean \n",
    "                res_right = right_y - right_mean\n",
    "\n",
    "                # Concatenating the residuals \n",
    "                r = np.concatenate((res_left, res_right), axis=None)\n",
    "\n",
    "                # Calculating the mse \n",
    "                n = len(r)\n",
    "                r = r ** 2\n",
    "                r = np.sum(r)\n",
    "                mse_split = r / n\n",
    "\n",
    "                # Checking if this is the best split so far \n",
    "                if mse_split < mse_base:\n",
    "                    best_feature = feature\n",
    "                    best_value = value \n",
    "\n",
    "                    # Setting the best gain to the current one \n",
    "                    mse_base = mse_split\n",
    "\n",
    "        return (best_feature, best_value)\n",
    "\n",
    "    def grow_tree(this):\n",
    "        \"\"\"\n",
    "        Recursive method to create the decision tree\n",
    "        \"\"\"\n",
    "        # Making a df from the data \n",
    "        df = this.X.copy()\n",
    "        df['Y'] = this.Y\n",
    "\n",
    "        # If there is GINI to be gained, we split further \n",
    "        if (this.depth < this.max_depth) and (this.n >= this.min_samples_split):\n",
    "\n",
    "            # Getting the best split \n",
    "            best_feature, best_value = this.best_split()\n",
    "\n",
    "            if best_feature is not None:\n",
    "                # Saving the best split to the current node \n",
    "                this.best_feature = best_feature\n",
    "                this.best_value = best_value\n",
    "\n",
    "                # Getting the left and right nodes\n",
    "                left_df, right_df = df[df[best_feature]<=best_value].copy(), df[df[best_feature]>best_value].copy()\n",
    "\n",
    "                # Creating the left and right nodes\n",
    "                left = NodeRegression(\n",
    "                    left_df['Y'].values.tolist(), \n",
    "                    left_df[this.features], \n",
    "                    depth=this.depth + 1, \n",
    "                    max_depth=this.max_depth, \n",
    "                    min_samples_split=this.min_samples_split, \n",
    "                    node_type='left_node',\n",
    "                    rule=f\"{best_feature} <= {round(best_value, 3)}\"\n",
    "                    )\n",
    "\n",
    "                this.left = left \n",
    "                this.left.grow_tree()\n",
    "\n",
    "                right = NodeRegression(\n",
    "                    right_df['Y'].values.tolist(), \n",
    "                    right_df[this.features], \n",
    "                    depth=this.depth + 1, \n",
    "                    max_depth=this.max_depth, \n",
    "                    min_samples_split=this.min_samples_split,\n",
    "                    node_type='right_node',\n",
    "                    rule=f\"{best_feature} > {round(best_value, 3)}\"\n",
    "                    )\n",
    "\n",
    "                this.right = right\n",
    "                this.right.grow_tree()\n",
    "\n",
    "    def print_info(this, width=4):\n",
    "        \"\"\"\n",
    "        Method to print the infromation about the tree\n",
    "        \"\"\"\n",
    "        # Defining the number of spaces \n",
    "        const = int(this.depth * width ** 1.5)\n",
    "        spaces = \"-\" * const\n",
    "        \n",
    "        if this.node_type == 'root':\n",
    "            print(\"Root\")\n",
    "        else:\n",
    "            print(f\"|{spaces} Split rule: {this.rule}\")\n",
    "        print(f\"{' ' * const}   | MSE of the node: {round(this.mse, 2)}\")\n",
    "        print(f\"{' ' * const}   | Count of observations in node: {this.n}\")\n",
    "        print(f\"{' ' * const}   | Prediction of node: {round(this.ymean, 3)}\")   \n",
    "\n",
    "    def print_tree(this):\n",
    "        \"\"\"\n",
    "        Prints the whole tree from the current node to the bottom\n",
    "        \"\"\"\n",
    "        this.print_info() \n",
    "        \n",
    "        if this.left is not None: \n",
    "            this.left.print_tree()\n",
    "        \n",
    "        if this.right is not None:\n",
    "            this.right.print_tree()"
   ]
  },
  {
   "cell_type": "code",
   "execution_count": 10,
   "metadata": {},
   "outputs": [
    {
     "output_type": "stream",
     "name": "stderr",
     "text": [
      "C:\\Users\\timrs\\anaconda3\\lib\\site-packages\\pandas\\core\\ops\\array_ops.py:253: FutureWarning: elementwise comparison failed; returning scalar instead, but in the future will perform elementwise comparison\n  res_values = method(rvalues)\n"
     ]
    }
   ],
   "source": [
    "# Reading data\n",
    "d = pd.read_csv(\"auto-mpg.csv\")\n",
    "# Subsetting\n",
    "d = d[d['horsepower']!='?']\n",
    "# Constructing the X and Y matrices\n",
    "features = ['horsepower', 'weight']\n",
    "# Ensuring the correct types \n",
    "for ft in features:\n",
    "    d[ft] = pd.to_numeric(d[ft])\n",
    "# Constructing the X and Y matrices\n",
    "X = d[features]\n",
    "Y = d['mpg'].values.tolist()"
   ]
  },
  {
   "cell_type": "code",
   "execution_count": 7,
   "metadata": {},
   "outputs": [],
   "source": [
    "# Initiating the Node\n",
    "root = NodeRegression(Y, X, max_depth=2, min_samples_split=3)\n",
    "# Growing the tree\n",
    "root.grow_tree()"
   ]
  },
  {
   "cell_type": "code",
   "execution_count": 7,
   "metadata": {},
   "outputs": [],
   "source": [
    "# Reading data\n",
    "d_vw = pd.read_csv(\"Data/vw.csv\")\n",
    "d_vw.reset_index(drop=True, inplace=True)\n",
    "\n",
    "# Constructing the X and Y matrices\n",
    "features = [\"year\",\"mileage\",\"tax\",\"mpg\",\"engineSize\"]\n",
    "# Ensuring the correct types\n",
    "for ft in features:\n",
    "    d_vw[ft] = pd.to_numeric(d_vw[ft])\n",
    "\n",
    "# Constructing the X and Y matrices\n",
    "X_vw = d_vw[features]\n",
    "Y_vw = d_vw['price'].values.tolist()"
   ]
  },
  {
   "cell_type": "code",
   "execution_count": 14,
   "metadata": {},
   "outputs": [],
   "source": [
    " from sklearn.model_selection import train_test_split\n",
    " X_train, X_test, y_train, y_test = train_test_split(X_vw, Y_vw, random_state=0)"
   ]
  },
  {
   "cell_type": "code",
   "execution_count": 15,
   "metadata": {},
   "outputs": [],
   "source": [
    "# Initiating the Node\n",
    "root = NodeRegression(y_train, X_train, max_depth=2, min_samples_split=3)\n",
    "# Growing the tree\n",
    "root.grow_tree()"
   ]
  },
  {
   "cell_type": "code",
   "execution_count": 17,
   "metadata": {},
   "outputs": [
    {
     "output_type": "stream",
     "name": "stdout",
     "text": [
      "Root\n   | MSE of the node: 59808615.31\n   | Count of observations in node: 11367\n   | Prediction of node: 16830.805\n|-------- Split rule: mpg <= 50.9\n           | MSE of the node: 61054768.38\n           | Count of observations in node: 4938\n           | Prediction of node: 22258.837\n|---------------- Split rule: mpg <= 35.1\n                   | MSE of the node: 91222696.96\n                   | Count of observations in node: 579\n                   | Prediction of node: 34684.128\n|---------------- Split rule: mpg > 35.1\n                   | MSE of the node: 33816543.2\n                   | Count of observations in node: 4359\n                   | Prediction of node: 20608.403\n|-------- Split rule: mpg > 50.9\n           | MSE of the node: 18839036.48\n           | Count of observations in node: 6429\n           | Prediction of node: 12661.63\n|---------------- Split rule: engineSize <= 1.3\n                   | MSE of the node: 6798986.55\n                   | Count of observations in node: 2548\n                   | Prediction of node: 10017.876\n|---------------- Split rule: engineSize > 1.3\n                   | MSE of the node: 19142238.29\n                   | Count of observations in node: 3881\n                   | Prediction of node: 14397.339\n"
     ]
    }
   ],
   "source": [
    "# Printing tree\n",
    "root.print_tree()"
   ]
  },
  {
   "cell_type": "code",
   "execution_count": 21,
   "metadata": {},
   "outputs": [],
   "source": [
    "from sklearn.tree import DecisionTreeRegressor\n",
    "from sklearn import tree\n",
    "\n",
    "DTR = DecisionTreeRegressor(max_depth=2, min_samples_split=3)\n",
    "DTR.fit(X_vw, Y_vw)\n",
    "y_pred = DTR.predict(X_test)\n"
   ]
  },
  {
   "cell_type": "code",
   "execution_count": 22,
   "metadata": {},
   "outputs": [
    {
     "output_type": "execute_result",
     "data": {
      "text/plain": [
       "25715893.696507894"
      ]
     },
     "metadata": {},
     "execution_count": 22
    }
   ],
   "source": [
    "from sklearn.metrics import mean_squared_error\n",
    "mean_squared_error(y_test,y_pred)"
   ]
  },
  {
   "cell_type": "code",
   "execution_count": 11,
   "metadata": {
    "tags": []
   },
   "outputs": [
    {
     "output_type": "stream",
     "name": "stdout",
     "text": [
      "|--- feature_3 <= 50.90\n|   |--- feature_3 <= 35.10\n|   |   |--- value: [34664.28]\n|   |--- feature_3 >  35.10\n|   |   |--- value: [20660.66]\n|--- feature_3 >  50.90\n|   |--- feature_4 <= 1.30\n|   |   |--- value: [10030.64]\n|   |--- feature_4 >  1.30\n|   |   |--- value: [14425.99]\n\n"
     ]
    }
   ],
   "source": [
    "print(tree.export_text(DTR))"
   ]
  },
  {
   "source": [
    "SCALING DATA:"
   ],
   "cell_type": "markdown",
   "metadata": {}
  },
  {
   "cell_type": "code",
   "execution_count": 25,
   "metadata": {},
   "outputs": [],
   "source": [
    "data_vw = pd.read_csv(\"Data/vw.csv\")\n",
    "data_vw_expanded = pd.get_dummies(data_vw)"
   ]
  },
  {
   "cell_type": "code",
   "execution_count": null,
   "metadata": {},
   "outputs": [],
   "source": []
  },
  {
   "cell_type": "code",
   "execution_count": 26,
   "metadata": {},
   "outputs": [
    {
     "output_type": "stream",
     "name": "stdout",
     "text": [
      "(15157, 40)\n"
     ]
    },
    {
     "output_type": "execute_result",
     "data": {
      "text/plain": [
       "       year     price   mileage       tax       mpg  engineSize  \\\n",
       "0  0.849595  1.052392 -0.387209  0.508120 -0.304459    0.864902   \n",
       "1  0.849595  1.295211 -0.828948  0.508120 -0.304459    0.864902   \n",
       "2  0.849595  0.407627 -0.694090  0.508120 -0.245816    0.864902   \n",
       "3  0.849595  2.147462 -0.816512  0.508120 -1.557966    0.864902   \n",
       "4  0.849595  0.781591 -0.737309  0.586884 -1.022843   -0.218101   \n",
       "\n",
       "   model_ Amarok  model_ Arteon  model_ Beetle  model_ CC  ...  \\\n",
       "0      -0.085892      -0.128974      -0.074204  -0.079418  ...   \n",
       "1      -0.085892      -0.128974      -0.074204  -0.079418  ...   \n",
       "2      -0.085892      -0.128974      -0.074204  -0.079418  ...   \n",
       "3      -0.085892      -0.128974      -0.074204  -0.079418  ...   \n",
       "4      -0.085892      -0.128974      -0.074204  -0.079418  ...   \n",
       "\n",
       "   model_ Touareg  model_ Touran  model_ Up  transmission_Automatic  \\\n",
       "0       -0.156643      -0.154194  -0.248868                2.594834   \n",
       "1       -0.156643      -0.154194  -0.248868                2.594834   \n",
       "2       -0.156643      -0.154194  -0.248868               -0.385381   \n",
       "3       -0.156643      -0.154194  -0.248868                2.594834   \n",
       "4       -0.156643      -0.154194  -0.248868               -0.385381   \n",
       "\n",
       "   transmission_Manual  transmission_Semi-Auto  fuelType_Diesel  \\\n",
       "0            -1.280856               -0.576411         1.174175   \n",
       "1            -1.280856               -0.576411         1.174175   \n",
       "2             0.780728               -0.576411         1.174175   \n",
       "3            -1.280856               -0.576411        -0.851661   \n",
       "4            -1.280856                1.734874        -0.851661   \n",
       "\n",
       "   fuelType_Hybrid  fuelType_Other  fuelType_Petrol  \n",
       "0         -0.09828       -0.075981        -1.138035  \n",
       "1         -0.09828       -0.075981        -1.138035  \n",
       "2         -0.09828       -0.075981        -1.138035  \n",
       "3         -0.09828       -0.075981         0.878707  \n",
       "4         -0.09828       -0.075981         0.878707  \n",
       "\n",
       "[5 rows x 40 columns]"
      ],
      "text/html": "<div>\n<style scoped>\n    .dataframe tbody tr th:only-of-type {\n        vertical-align: middle;\n    }\n\n    .dataframe tbody tr th {\n        vertical-align: top;\n    }\n\n    .dataframe thead th {\n        text-align: right;\n    }\n</style>\n<table border=\"1\" class=\"dataframe\">\n  <thead>\n    <tr style=\"text-align: right;\">\n      <th></th>\n      <th>year</th>\n      <th>price</th>\n      <th>mileage</th>\n      <th>tax</th>\n      <th>mpg</th>\n      <th>engineSize</th>\n      <th>model_ Amarok</th>\n      <th>model_ Arteon</th>\n      <th>model_ Beetle</th>\n      <th>model_ CC</th>\n      <th>...</th>\n      <th>model_ Touareg</th>\n      <th>model_ Touran</th>\n      <th>model_ Up</th>\n      <th>transmission_Automatic</th>\n      <th>transmission_Manual</th>\n      <th>transmission_Semi-Auto</th>\n      <th>fuelType_Diesel</th>\n      <th>fuelType_Hybrid</th>\n      <th>fuelType_Other</th>\n      <th>fuelType_Petrol</th>\n    </tr>\n  </thead>\n  <tbody>\n    <tr>\n      <th>0</th>\n      <td>0.849595</td>\n      <td>1.052392</td>\n      <td>-0.387209</td>\n      <td>0.508120</td>\n      <td>-0.304459</td>\n      <td>0.864902</td>\n      <td>-0.085892</td>\n      <td>-0.128974</td>\n      <td>-0.074204</td>\n      <td>-0.079418</td>\n      <td>...</td>\n      <td>-0.156643</td>\n      <td>-0.154194</td>\n      <td>-0.248868</td>\n      <td>2.594834</td>\n      <td>-1.280856</td>\n      <td>-0.576411</td>\n      <td>1.174175</td>\n      <td>-0.09828</td>\n      <td>-0.075981</td>\n      <td>-1.138035</td>\n    </tr>\n    <tr>\n      <th>1</th>\n      <td>0.849595</td>\n      <td>1.295211</td>\n      <td>-0.828948</td>\n      <td>0.508120</td>\n      <td>-0.304459</td>\n      <td>0.864902</td>\n      <td>-0.085892</td>\n      <td>-0.128974</td>\n      <td>-0.074204</td>\n      <td>-0.079418</td>\n      <td>...</td>\n      <td>-0.156643</td>\n      <td>-0.154194</td>\n      <td>-0.248868</td>\n      <td>2.594834</td>\n      <td>-1.280856</td>\n      <td>-0.576411</td>\n      <td>1.174175</td>\n      <td>-0.09828</td>\n      <td>-0.075981</td>\n      <td>-1.138035</td>\n    </tr>\n    <tr>\n      <th>2</th>\n      <td>0.849595</td>\n      <td>0.407627</td>\n      <td>-0.694090</td>\n      <td>0.508120</td>\n      <td>-0.245816</td>\n      <td>0.864902</td>\n      <td>-0.085892</td>\n      <td>-0.128974</td>\n      <td>-0.074204</td>\n      <td>-0.079418</td>\n      <td>...</td>\n      <td>-0.156643</td>\n      <td>-0.154194</td>\n      <td>-0.248868</td>\n      <td>-0.385381</td>\n      <td>0.780728</td>\n      <td>-0.576411</td>\n      <td>1.174175</td>\n      <td>-0.09828</td>\n      <td>-0.075981</td>\n      <td>-1.138035</td>\n    </tr>\n    <tr>\n      <th>3</th>\n      <td>0.849595</td>\n      <td>2.147462</td>\n      <td>-0.816512</td>\n      <td>0.508120</td>\n      <td>-1.557966</td>\n      <td>0.864902</td>\n      <td>-0.085892</td>\n      <td>-0.128974</td>\n      <td>-0.074204</td>\n      <td>-0.079418</td>\n      <td>...</td>\n      <td>-0.156643</td>\n      <td>-0.154194</td>\n      <td>-0.248868</td>\n      <td>2.594834</td>\n      <td>-1.280856</td>\n      <td>-0.576411</td>\n      <td>-0.851661</td>\n      <td>-0.09828</td>\n      <td>-0.075981</td>\n      <td>0.878707</td>\n    </tr>\n    <tr>\n      <th>4</th>\n      <td>0.849595</td>\n      <td>0.781591</td>\n      <td>-0.737309</td>\n      <td>0.586884</td>\n      <td>-1.022843</td>\n      <td>-0.218101</td>\n      <td>-0.085892</td>\n      <td>-0.128974</td>\n      <td>-0.074204</td>\n      <td>-0.079418</td>\n      <td>...</td>\n      <td>-0.156643</td>\n      <td>-0.154194</td>\n      <td>-0.248868</td>\n      <td>-0.385381</td>\n      <td>-1.280856</td>\n      <td>1.734874</td>\n      <td>-0.851661</td>\n      <td>-0.09828</td>\n      <td>-0.075981</td>\n      <td>0.878707</td>\n    </tr>\n  </tbody>\n</table>\n<p>5 rows × 40 columns</p>\n</div>"
     },
     "metadata": {},
     "execution_count": 26
    }
   ],
   "source": [
    "from sklearn.preprocessing import StandardScaler\n",
    "\n",
    "std = StandardScaler()\n",
    "data_vw_expanded_std = std.fit_transform(data_vw_expanded)\n",
    "data_vw_expanded_std = pd.DataFrame(data_vw_expanded_std, columns = data_vw_expanded.columns)\n",
    "print(data_vw_expanded_std.shape)\n",
    "data_vw_expanded_std.head()"
   ]
  },
  {
   "cell_type": "code",
   "execution_count": 38,
   "metadata": {},
   "outputs": [],
   "source": [
    "# Reading data\n",
    "raw_d_vw = pd.read_csv(\"Data/vw.csv\")\n",
    "raw_d_vw.reset_index(drop=True, inplace=True)\n",
    "\n",
    "# Constructing the X and Y matrices\n",
    "features = [\"year\",\"mileage\",\"tax\",\"mpg\",\"engineSize\",\"price\"]\n",
    "# Ensuring the correct types\n",
    "for ft in features:\n",
    "    d_vw[ft] = pd.to_numeric(raw_d_vw[ft])\n",
    "\n",
    "# Constructing the X and Y matrices\n",
    "#X_vw = d_vw[features]\n",
    "#Y_vw = d_vw['price'].values.tolist()\n",
    "\n"
   ]
  },
  {
   "cell_type": "code",
   "execution_count": 40,
   "metadata": {},
   "outputs": [
    {
     "output_type": "error",
     "ename": "AttributeError",
     "evalue": "'numpy.ndarray' object has no attribute 'columns'",
     "traceback": [
      "\u001b[1;31m---------------------------------------------------------------------------\u001b[0m",
      "\u001b[1;31mAttributeError\u001b[0m                            Traceback (most recent call last)",
      "\u001b[1;32m<ipython-input-40-c7fcf3932e43>\u001b[0m in \u001b[0;36m<module>\u001b[1;34m\u001b[0m\n\u001b[0;32m      1\u001b[0m \u001b[0mstd\u001b[0m \u001b[1;33m=\u001b[0m \u001b[0mStandardScaler\u001b[0m\u001b[1;33m(\u001b[0m\u001b[1;33m)\u001b[0m\u001b[1;33m\u001b[0m\u001b[1;33m\u001b[0m\u001b[0m\n\u001b[0;32m      2\u001b[0m \u001b[0md_vw_scaled\u001b[0m \u001b[1;33m=\u001b[0m \u001b[0mstd\u001b[0m\u001b[1;33m.\u001b[0m\u001b[0mfit_transform\u001b[0m\u001b[1;33m(\u001b[0m\u001b[0md_vw\u001b[0m\u001b[1;33m)\u001b[0m\u001b[1;33m\u001b[0m\u001b[1;33m\u001b[0m\u001b[0m\n\u001b[1;32m----> 3\u001b[1;33m \u001b[0md_vw_scaled\u001b[0m \u001b[1;33m=\u001b[0m \u001b[0mpd\u001b[0m\u001b[1;33m.\u001b[0m\u001b[0mDataFrame\u001b[0m\u001b[1;33m(\u001b[0m\u001b[0md_vw_scaled\u001b[0m\u001b[1;33m,\u001b[0m \u001b[0mcolumns\u001b[0m \u001b[1;33m=\u001b[0m \u001b[0md_vw_scaled\u001b[0m\u001b[1;33m.\u001b[0m\u001b[0mcolumns\u001b[0m\u001b[1;33m)\u001b[0m\u001b[1;33m\u001b[0m\u001b[1;33m\u001b[0m\u001b[0m\n\u001b[0m\u001b[0;32m      4\u001b[0m \u001b[0mprint\u001b[0m\u001b[1;33m(\u001b[0m\u001b[0md_vw_scaled\u001b[0m\u001b[1;33m.\u001b[0m\u001b[0mshape\u001b[0m\u001b[1;33m)\u001b[0m\u001b[1;33m\u001b[0m\u001b[1;33m\u001b[0m\u001b[0m\n\u001b[0;32m      5\u001b[0m \u001b[0md_vw_scaled\u001b[0m\u001b[1;33m.\u001b[0m\u001b[0mhead\u001b[0m\u001b[1;33m(\u001b[0m\u001b[1;33m)\u001b[0m\u001b[1;33m\u001b[0m\u001b[1;33m\u001b[0m\u001b[0m\n",
      "\u001b[1;31mAttributeError\u001b[0m: 'numpy.ndarray' object has no attribute 'columns'"
     ]
    }
   ],
   "source": [
    "std = StandardScaler()\n",
    "d_vw_scaled = std.fit_transform(d_vw)\n",
    "d_vw_scaled = pd.DataFrame(d_vw_scaled, columns = feat)\n",
    "print(d_vw_scaled.shape)\n",
    "d_vw_scaled.head()"
   ]
  },
  {
   "cell_type": "code",
   "execution_count": 27,
   "metadata": {},
   "outputs": [],
   "source": [
    "X_train, X_test, y_train, y_test = train_test_split(data_vw_expanded_std.drop(columns = ['price']), data_vw_expanded_std[['price']])"
   ]
  },
  {
   "cell_type": "code",
   "execution_count": 28,
   "metadata": {},
   "outputs": [
    {
     "output_type": "error",
     "ename": "ValueError",
     "evalue": "The truth value of a Series is ambiguous. Use a.empty, a.bool(), a.item(), a.any() or a.all().",
     "traceback": [
      "\u001b[1;31m---------------------------------------------------------------------------\u001b[0m",
      "\u001b[1;31mValueError\u001b[0m                                Traceback (most recent call last)",
      "\u001b[1;32m<ipython-input-28-76bf5e39f812>\u001b[0m in \u001b[0;36m<module>\u001b[1;34m\u001b[0m\n\u001b[0;32m      2\u001b[0m \u001b[0mroot\u001b[0m \u001b[1;33m=\u001b[0m \u001b[0mNodeRegression\u001b[0m\u001b[1;33m(\u001b[0m\u001b[0my_train\u001b[0m\u001b[1;33m,\u001b[0m \u001b[0mX_train\u001b[0m\u001b[1;33m,\u001b[0m \u001b[0mmax_depth\u001b[0m\u001b[1;33m=\u001b[0m\u001b[1;36m2\u001b[0m\u001b[1;33m,\u001b[0m \u001b[0mmin_samples_split\u001b[0m\u001b[1;33m=\u001b[0m\u001b[1;36m3\u001b[0m\u001b[1;33m)\u001b[0m\u001b[1;33m\u001b[0m\u001b[1;33m\u001b[0m\u001b[0m\n\u001b[0;32m      3\u001b[0m \u001b[1;31m# Growing the tree\u001b[0m\u001b[1;33m\u001b[0m\u001b[1;33m\u001b[0m\u001b[1;33m\u001b[0m\u001b[0m\n\u001b[1;32m----> 4\u001b[1;33m \u001b[0mroot\u001b[0m\u001b[1;33m.\u001b[0m\u001b[0mgrow_tree\u001b[0m\u001b[1;33m(\u001b[0m\u001b[1;33m)\u001b[0m\u001b[1;33m\u001b[0m\u001b[1;33m\u001b[0m\u001b[0m\n\u001b[0m\u001b[0;32m      5\u001b[0m \u001b[1;31m# Printing tree\u001b[0m\u001b[1;33m\u001b[0m\u001b[1;33m\u001b[0m\u001b[1;33m\u001b[0m\u001b[0m\n\u001b[0;32m      6\u001b[0m \u001b[0mroot\u001b[0m\u001b[1;33m.\u001b[0m\u001b[0mprint_tree\u001b[0m\u001b[1;33m(\u001b[0m\u001b[1;33m)\u001b[0m\u001b[1;33m\u001b[0m\u001b[1;33m\u001b[0m\u001b[0m\n",
      "\u001b[1;32m<ipython-input-1-1b9399a9c221>\u001b[0m in \u001b[0;36mgrow_tree\u001b[1;34m(this)\u001b[0m\n\u001b[0;32m    160\u001b[0m \u001b[1;33m\u001b[0m\u001b[0m\n\u001b[0;32m    161\u001b[0m             \u001b[1;31m# Getting the best split\u001b[0m\u001b[1;33m\u001b[0m\u001b[1;33m\u001b[0m\u001b[1;33m\u001b[0m\u001b[0m\n\u001b[1;32m--> 162\u001b[1;33m             \u001b[0mbest_feature\u001b[0m\u001b[1;33m,\u001b[0m \u001b[0mbest_value\u001b[0m \u001b[1;33m=\u001b[0m \u001b[0mthis\u001b[0m\u001b[1;33m.\u001b[0m\u001b[0mbest_split\u001b[0m\u001b[1;33m(\u001b[0m\u001b[1;33m)\u001b[0m\u001b[1;33m\u001b[0m\u001b[1;33m\u001b[0m\u001b[0m\n\u001b[0m\u001b[0;32m    163\u001b[0m \u001b[1;33m\u001b[0m\u001b[0m\n\u001b[0;32m    164\u001b[0m             \u001b[1;32mif\u001b[0m \u001b[0mbest_feature\u001b[0m \u001b[1;32mis\u001b[0m \u001b[1;32mnot\u001b[0m \u001b[1;32mNone\u001b[0m\u001b[1;33m:\u001b[0m\u001b[1;33m\u001b[0m\u001b[1;33m\u001b[0m\u001b[0m\n",
      "\u001b[1;32m<ipython-input-1-1b9399a9c221>\u001b[0m in \u001b[0;36mbest_split\u001b[1;34m(this)\u001b[0m\n\u001b[0;32m    139\u001b[0m \u001b[1;33m\u001b[0m\u001b[0m\n\u001b[0;32m    140\u001b[0m                 \u001b[1;31m# Checking if this is the best split so far\u001b[0m\u001b[1;33m\u001b[0m\u001b[1;33m\u001b[0m\u001b[1;33m\u001b[0m\u001b[0m\n\u001b[1;32m--> 141\u001b[1;33m                 \u001b[1;32mif\u001b[0m \u001b[0mmse_split\u001b[0m \u001b[1;33m<\u001b[0m \u001b[0mmse_base\u001b[0m\u001b[1;33m:\u001b[0m\u001b[1;33m\u001b[0m\u001b[1;33m\u001b[0m\u001b[0m\n\u001b[0m\u001b[0;32m    142\u001b[0m                     \u001b[0mbest_feature\u001b[0m \u001b[1;33m=\u001b[0m \u001b[0mfeature\u001b[0m\u001b[1;33m\u001b[0m\u001b[1;33m\u001b[0m\u001b[0m\n\u001b[0;32m    143\u001b[0m                     \u001b[0mbest_value\u001b[0m \u001b[1;33m=\u001b[0m \u001b[0mvalue\u001b[0m\u001b[1;33m\u001b[0m\u001b[1;33m\u001b[0m\u001b[0m\n",
      "\u001b[1;32m~\\anaconda3\\lib\\site-packages\\pandas\\core\\generic.py\u001b[0m in \u001b[0;36m__nonzero__\u001b[1;34m(this)\u001b[0m\n\u001b[0;32m   1476\u001b[0m \u001b[1;33m\u001b[0m\u001b[0m\n\u001b[0;32m   1477\u001b[0m     \u001b[1;32mdef\u001b[0m \u001b[0m__nonzero__\u001b[0m\u001b[1;33m(\u001b[0m\u001b[0mthis\u001b[0m\u001b[1;33m)\u001b[0m\u001b[1;33m:\u001b[0m\u001b[1;33m\u001b[0m\u001b[1;33m\u001b[0m\u001b[0m\n\u001b[1;32m-> 1478\u001b[1;33m         raise ValueError(\n\u001b[0m\u001b[0;32m   1479\u001b[0m             \u001b[1;34mf\"The truth value of a {type(this).__name__} is ambiguous. \"\u001b[0m\u001b[1;33m\u001b[0m\u001b[1;33m\u001b[0m\u001b[0m\n\u001b[0;32m   1480\u001b[0m             \u001b[1;34m\"Use a.empty, a.bool(), a.item(), a.any() or a.all().\"\u001b[0m\u001b[1;33m\u001b[0m\u001b[1;33m\u001b[0m\u001b[0m\n",
      "\u001b[1;31mValueError\u001b[0m: The truth value of a Series is ambiguous. Use a.empty, a.bool(), a.item(), a.any() or a.all()."
     ]
    }
   ],
   "source": [
    "# Initiating the Node\n",
    "root = NodeRegression(y_train, X_train, max_depth=2, min_samples_split=3)\n",
    "# Growing the tree\n",
    "root.grow_tree()\n",
    "# Printing tree\n",
    "root.print_tree()"
   ]
  },
  {
   "cell_type": "code",
   "execution_count": 30,
   "metadata": {},
   "outputs": [
    {
     "output_type": "execute_result",
     "data": {
      "text/plain": [
       "0.4234713519350358"
      ]
     },
     "metadata": {},
     "execution_count": 30
    }
   ],
   "source": [
    "DTR = DecisionTreeRegressor(max_depth=2, min_samples_split=3)\n",
    "DTR.fit(X_train, y_train)\n",
    "y_pred = DTR.predict(X_test)\n",
    "mean_squared_error(y_test,y_pred)"
   ]
  },
  {
   "cell_type": "code",
   "execution_count": null,
   "metadata": {},
   "outputs": [],
   "source": []
  }
 ]
}